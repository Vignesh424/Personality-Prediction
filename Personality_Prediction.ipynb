{
  "nbformat": 4,
  "nbformat_minor": 0,
  "metadata": {
    "colab": {
      "provenance": [],
      "authorship_tag": "ABX9TyPK+aSQxEKpCWZ+UEwAgTrh",
      "include_colab_link": true
    },
    "kernelspec": {
      "name": "python3",
      "display_name": "Python 3"
    },
    "language_info": {
      "name": "python"
    }
  },
  "cells": [
    {
      "cell_type": "markdown",
      "metadata": {
        "id": "view-in-github",
        "colab_type": "text"
      },
      "source": [
        "<a href=\"https://colab.research.google.com/github/Vignesh424/Personality-Prediction/blob/main/Personality_Prediction.ipynb\" target=\"_parent\"><img src=\"https://colab.research.google.com/assets/colab-badge.svg\" alt=\"Open In Colab\"/></a>"
      ]
    },
    {
      "cell_type": "code",
      "execution_count": null,
      "metadata": {
        "id": "aRvY_PxywfX_"
      },
      "outputs": [],
      "source": [
        "import polars as pl\n",
        "import pickle\n",
        "from sklearn.model_selection import train_test_split\n",
        "from sklearn.tree import DecisionTreeClassifier\n",
        "from sklearn.metrics import classification_report\n",
        "from sklearn.preprocessing import LabelEncoder"
      ]
    },
    {
      "cell_type": "code",
      "source": [
        "data = pl.read_csv('/content/personality_dataset.csv')"
      ],
      "metadata": {
        "id": "-Ugpckzcwxn3"
      },
      "execution_count": null,
      "outputs": []
    },
    {
      "cell_type": "code",
      "source": [
        "data.null_count()"
      ],
      "metadata": {
        "colab": {
          "base_uri": "https://localhost:8080/",
          "height": 149
        },
        "id": "2G9moMOpw2Vw",
        "outputId": "810c192d-9e34-45e9-98ba-170ee2478461"
      },
      "execution_count": null,
      "outputs": [
        {
          "output_type": "execute_result",
          "data": {
            "text/plain": [
              "shape: (1, 8)\n",
              "┌────────────┬────────────┬────────────┬───────────┬───────────┬───────────┬───────────┬───────────┐\n",
              "│ Time_spent ┆ Stage_fear ┆ Social_eve ┆ Going_out ┆ Drained_a ┆ Friends_c ┆ Post_freq ┆ Personali │\n",
              "│ _Alone     ┆ ---        ┆ nt_attenda ┆ side      ┆ fter_soci ┆ ircle_siz ┆ uency     ┆ ty        │\n",
              "│ ---        ┆ u32        ┆ nce        ┆ ---       ┆ alizing   ┆ e         ┆ ---       ┆ ---       │\n",
              "│ u32        ┆            ┆ ---        ┆ u32       ┆ ---       ┆ ---       ┆ u32       ┆ u32       │\n",
              "│            ┆            ┆ u32        ┆           ┆ u32       ┆ u32       ┆           ┆           │\n",
              "╞════════════╪════════════╪════════════╪═══════════╪═══════════╪═══════════╪═══════════╪═══════════╡\n",
              "│ 63         ┆ 73         ┆ 62         ┆ 66        ┆ 52        ┆ 77        ┆ 65        ┆ 0         │\n",
              "└────────────┴────────────┴────────────┴───────────┴───────────┴───────────┴───────────┴───────────┘"
            ],
            "text/html": [
              "<div><style>\n",
              ".dataframe > thead > tr,\n",
              ".dataframe > tbody > tr {\n",
              "  text-align: right;\n",
              "  white-space: pre-wrap;\n",
              "}\n",
              "</style>\n",
              "<small>shape: (1, 8)</small><table border=\"1\" class=\"dataframe\"><thead><tr><th>Time_spent_Alone</th><th>Stage_fear</th><th>Social_event_attendance</th><th>Going_outside</th><th>Drained_after_socializing</th><th>Friends_circle_size</th><th>Post_frequency</th><th>Personality</th></tr><tr><td>u32</td><td>u32</td><td>u32</td><td>u32</td><td>u32</td><td>u32</td><td>u32</td><td>u32</td></tr></thead><tbody><tr><td>63</td><td>73</td><td>62</td><td>66</td><td>52</td><td>77</td><td>65</td><td>0</td></tr></tbody></table></div>"
            ]
          },
          "metadata": {},
          "execution_count": 19
        }
      ]
    },
    {
      "cell_type": "code",
      "source": [
        "data.head()"
      ],
      "metadata": {
        "colab": {
          "base_uri": "https://localhost:8080/",
          "height": 275
        },
        "id": "wMHpLupcw1NO",
        "outputId": "d0a0bfdd-9c2a-49c2-bf3e-02c23a7c02f0"
      },
      "execution_count": null,
      "outputs": [
        {
          "output_type": "execute_result",
          "data": {
            "text/plain": [
              "shape: (5, 8)\n",
              "┌────────────┬────────────┬────────────┬───────────┬───────────┬───────────┬───────────┬───────────┐\n",
              "│ Time_spent ┆ Stage_fear ┆ Social_eve ┆ Going_out ┆ Drained_a ┆ Friends_c ┆ Post_freq ┆ Personali │\n",
              "│ _Alone     ┆ ---        ┆ nt_attenda ┆ side      ┆ fter_soci ┆ ircle_siz ┆ uency     ┆ ty        │\n",
              "│ ---        ┆ str        ┆ nce        ┆ ---       ┆ alizing   ┆ e         ┆ ---       ┆ ---       │\n",
              "│ f64        ┆            ┆ ---        ┆ f64       ┆ ---       ┆ ---       ┆ f64       ┆ str       │\n",
              "│            ┆            ┆ f64        ┆           ┆ str       ┆ f64       ┆           ┆           │\n",
              "╞════════════╪════════════╪════════════╪═══════════╪═══════════╪═══════════╪═══════════╪═══════════╡\n",
              "│ 4.0        ┆ No         ┆ 4.0        ┆ 6.0       ┆ No        ┆ 13.0      ┆ 5.0       ┆ Extrovert │\n",
              "│ 9.0        ┆ Yes        ┆ 0.0        ┆ 0.0       ┆ Yes       ┆ 0.0       ┆ 3.0       ┆ Introvert │\n",
              "│ 9.0        ┆ Yes        ┆ 1.0        ┆ 2.0       ┆ Yes       ┆ 5.0       ┆ 2.0       ┆ Introvert │\n",
              "│ 0.0        ┆ No         ┆ 6.0        ┆ 7.0       ┆ No        ┆ 14.0      ┆ 8.0       ┆ Extrovert │\n",
              "│ 3.0        ┆ No         ┆ 9.0        ┆ 4.0       ┆ No        ┆ 8.0       ┆ 5.0       ┆ Extrovert │\n",
              "└────────────┴────────────┴────────────┴───────────┴───────────┴───────────┴───────────┴───────────┘"
            ],
            "text/html": [
              "<div><style>\n",
              ".dataframe > thead > tr,\n",
              ".dataframe > tbody > tr {\n",
              "  text-align: right;\n",
              "  white-space: pre-wrap;\n",
              "}\n",
              "</style>\n",
              "<small>shape: (5, 8)</small><table border=\"1\" class=\"dataframe\"><thead><tr><th>Time_spent_Alone</th><th>Stage_fear</th><th>Social_event_attendance</th><th>Going_outside</th><th>Drained_after_socializing</th><th>Friends_circle_size</th><th>Post_frequency</th><th>Personality</th></tr><tr><td>f64</td><td>str</td><td>f64</td><td>f64</td><td>str</td><td>f64</td><td>f64</td><td>str</td></tr></thead><tbody><tr><td>4.0</td><td>&quot;No&quot;</td><td>4.0</td><td>6.0</td><td>&quot;No&quot;</td><td>13.0</td><td>5.0</td><td>&quot;Extrovert&quot;</td></tr><tr><td>9.0</td><td>&quot;Yes&quot;</td><td>0.0</td><td>0.0</td><td>&quot;Yes&quot;</td><td>0.0</td><td>3.0</td><td>&quot;Introvert&quot;</td></tr><tr><td>9.0</td><td>&quot;Yes&quot;</td><td>1.0</td><td>2.0</td><td>&quot;Yes&quot;</td><td>5.0</td><td>2.0</td><td>&quot;Introvert&quot;</td></tr><tr><td>0.0</td><td>&quot;No&quot;</td><td>6.0</td><td>7.0</td><td>&quot;No&quot;</td><td>14.0</td><td>8.0</td><td>&quot;Extrovert&quot;</td></tr><tr><td>3.0</td><td>&quot;No&quot;</td><td>9.0</td><td>4.0</td><td>&quot;No&quot;</td><td>8.0</td><td>5.0</td><td>&quot;Extrovert&quot;</td></tr></tbody></table></div>"
            ]
          },
          "metadata": {},
          "execution_count": 20
        }
      ]
    },
    {
      "cell_type": "code",
      "source": [
        "#Fill Nulls\n",
        "cleaned = data.with_columns(\n",
        "    pl.col('Time_spent_Alone').interpolate(method='linear'),\n",
        "    pl.col('Stage_fear').fill_null(\"Unknown\"),\n",
        "    pl.col('Social_event_attendance').interpolate(method='linear'),\n",
        "    pl.col('Going_outside').interpolate(method='linear'),\n",
        "    pl.col('Drained_after_socializing').fill_null(\"Unknown\"),\n",
        "    pl.col('Post_frequency').interpolate(method='linear')\n",
        ")"
      ],
      "metadata": {
        "id": "lFhHpUt_w9rY"
      },
      "execution_count": null,
      "outputs": []
    },
    {
      "cell_type": "code",
      "source": [
        "cleaned.head()"
      ],
      "metadata": {
        "colab": {
          "base_uri": "https://localhost:8080/",
          "height": 275
        },
        "id": "P_VoHn4Xxrbl",
        "outputId": "0547ad59-170b-4fb7-e213-816b3ca03ef2"
      },
      "execution_count": null,
      "outputs": [
        {
          "output_type": "execute_result",
          "data": {
            "text/plain": [
              "shape: (5, 8)\n",
              "┌────────────┬────────────┬────────────┬───────────┬───────────┬───────────┬───────────┬───────────┐\n",
              "│ Time_spent ┆ Stage_fear ┆ Social_eve ┆ Going_out ┆ Drained_a ┆ Friends_c ┆ Post_freq ┆ Personali │\n",
              "│ _Alone     ┆ ---        ┆ nt_attenda ┆ side      ┆ fter_soci ┆ ircle_siz ┆ uency     ┆ ty        │\n",
              "│ ---        ┆ str        ┆ nce        ┆ ---       ┆ alizing   ┆ e         ┆ ---       ┆ ---       │\n",
              "│ f64        ┆            ┆ ---        ┆ f64       ┆ ---       ┆ ---       ┆ f64       ┆ str       │\n",
              "│            ┆            ┆ f64        ┆           ┆ str       ┆ f64       ┆           ┆           │\n",
              "╞════════════╪════════════╪════════════╪═══════════╪═══════════╪═══════════╪═══════════╪═══════════╡\n",
              "│ 4.0        ┆ No         ┆ 4.0        ┆ 6.0       ┆ No        ┆ 13.0      ┆ 5.0       ┆ Extrovert │\n",
              "│ 9.0        ┆ Yes        ┆ 0.0        ┆ 0.0       ┆ Yes       ┆ 0.0       ┆ 3.0       ┆ Introvert │\n",
              "│ 9.0        ┆ Yes        ┆ 1.0        ┆ 2.0       ┆ Yes       ┆ 5.0       ┆ 2.0       ┆ Introvert │\n",
              "│ 0.0        ┆ No         ┆ 6.0        ┆ 7.0       ┆ No        ┆ 14.0      ┆ 8.0       ┆ Extrovert │\n",
              "│ 3.0        ┆ No         ┆ 9.0        ┆ 4.0       ┆ No        ┆ 8.0       ┆ 5.0       ┆ Extrovert │\n",
              "└────────────┴────────────┴────────────┴───────────┴───────────┴───────────┴───────────┴───────────┘"
            ],
            "text/html": [
              "<div><style>\n",
              ".dataframe > thead > tr,\n",
              ".dataframe > tbody > tr {\n",
              "  text-align: right;\n",
              "  white-space: pre-wrap;\n",
              "}\n",
              "</style>\n",
              "<small>shape: (5, 8)</small><table border=\"1\" class=\"dataframe\"><thead><tr><th>Time_spent_Alone</th><th>Stage_fear</th><th>Social_event_attendance</th><th>Going_outside</th><th>Drained_after_socializing</th><th>Friends_circle_size</th><th>Post_frequency</th><th>Personality</th></tr><tr><td>f64</td><td>str</td><td>f64</td><td>f64</td><td>str</td><td>f64</td><td>f64</td><td>str</td></tr></thead><tbody><tr><td>4.0</td><td>&quot;No&quot;</td><td>4.0</td><td>6.0</td><td>&quot;No&quot;</td><td>13.0</td><td>5.0</td><td>&quot;Extrovert&quot;</td></tr><tr><td>9.0</td><td>&quot;Yes&quot;</td><td>0.0</td><td>0.0</td><td>&quot;Yes&quot;</td><td>0.0</td><td>3.0</td><td>&quot;Introvert&quot;</td></tr><tr><td>9.0</td><td>&quot;Yes&quot;</td><td>1.0</td><td>2.0</td><td>&quot;Yes&quot;</td><td>5.0</td><td>2.0</td><td>&quot;Introvert&quot;</td></tr><tr><td>0.0</td><td>&quot;No&quot;</td><td>6.0</td><td>7.0</td><td>&quot;No&quot;</td><td>14.0</td><td>8.0</td><td>&quot;Extrovert&quot;</td></tr><tr><td>3.0</td><td>&quot;No&quot;</td><td>9.0</td><td>4.0</td><td>&quot;No&quot;</td><td>8.0</td><td>5.0</td><td>&quot;Extrovert&quot;</td></tr></tbody></table></div>"
            ]
          },
          "metadata": {},
          "execution_count": 22
        }
      ]
    },
    {
      "cell_type": "code",
      "source": [
        "le = LabelEncoder()\n",
        "# Apply Label Encoding using with_columns\n",
        "new_cleaned = cleaned.with_columns(\n",
        "    pl.Series(le.fit_transform(cleaned['Stage_fear'])).alias('Stage_fear').cast(pl.Int64),\n",
        "    pl.Series(le.fit_transform(cleaned['Drained_after_socializing'])).alias('Drained_after_socializing').cast(pl.Int64)\n",
        ")"
      ],
      "metadata": {
        "id": "Who2hh0xzaxV"
      },
      "execution_count": null,
      "outputs": []
    },
    {
      "cell_type": "code",
      "source": [
        "new_cleaned.head()"
      ],
      "metadata": {
        "id": "l_N6sD6Ezsia",
        "colab": {
          "base_uri": "https://localhost:8080/",
          "height": 275
        },
        "outputId": "d0cbd1b2-70e8-44bf-987c-97b623d10828"
      },
      "execution_count": null,
      "outputs": [
        {
          "output_type": "execute_result",
          "data": {
            "text/plain": [
              "shape: (5, 8)\n",
              "┌────────────┬────────────┬────────────┬───────────┬───────────┬───────────┬───────────┬───────────┐\n",
              "│ Time_spent ┆ Stage_fear ┆ Social_eve ┆ Going_out ┆ Drained_a ┆ Friends_c ┆ Post_freq ┆ Personali │\n",
              "│ _Alone     ┆ ---        ┆ nt_attenda ┆ side      ┆ fter_soci ┆ ircle_siz ┆ uency     ┆ ty        │\n",
              "│ ---        ┆ i64        ┆ nce        ┆ ---       ┆ alizing   ┆ e         ┆ ---       ┆ ---       │\n",
              "│ f64        ┆            ┆ ---        ┆ f64       ┆ ---       ┆ ---       ┆ f64       ┆ str       │\n",
              "│            ┆            ┆ f64        ┆           ┆ i64       ┆ f64       ┆           ┆           │\n",
              "╞════════════╪════════════╪════════════╪═══════════╪═══════════╪═══════════╪═══════════╪═══════════╡\n",
              "│ 4.0        ┆ 0          ┆ 4.0        ┆ 6.0       ┆ 0         ┆ 13.0      ┆ 5.0       ┆ Extrovert │\n",
              "│ 9.0        ┆ 2          ┆ 0.0        ┆ 0.0       ┆ 2         ┆ 0.0       ┆ 3.0       ┆ Introvert │\n",
              "│ 9.0        ┆ 2          ┆ 1.0        ┆ 2.0       ┆ 2         ┆ 5.0       ┆ 2.0       ┆ Introvert │\n",
              "│ 0.0        ┆ 0          ┆ 6.0        ┆ 7.0       ┆ 0         ┆ 14.0      ┆ 8.0       ┆ Extrovert │\n",
              "│ 3.0        ┆ 0          ┆ 9.0        ┆ 4.0       ┆ 0         ┆ 8.0       ┆ 5.0       ┆ Extrovert │\n",
              "└────────────┴────────────┴────────────┴───────────┴───────────┴───────────┴───────────┴───────────┘"
            ],
            "text/html": [
              "<div><style>\n",
              ".dataframe > thead > tr,\n",
              ".dataframe > tbody > tr {\n",
              "  text-align: right;\n",
              "  white-space: pre-wrap;\n",
              "}\n",
              "</style>\n",
              "<small>shape: (5, 8)</small><table border=\"1\" class=\"dataframe\"><thead><tr><th>Time_spent_Alone</th><th>Stage_fear</th><th>Social_event_attendance</th><th>Going_outside</th><th>Drained_after_socializing</th><th>Friends_circle_size</th><th>Post_frequency</th><th>Personality</th></tr><tr><td>f64</td><td>i64</td><td>f64</td><td>f64</td><td>i64</td><td>f64</td><td>f64</td><td>str</td></tr></thead><tbody><tr><td>4.0</td><td>0</td><td>4.0</td><td>6.0</td><td>0</td><td>13.0</td><td>5.0</td><td>&quot;Extrovert&quot;</td></tr><tr><td>9.0</td><td>2</td><td>0.0</td><td>0.0</td><td>2</td><td>0.0</td><td>3.0</td><td>&quot;Introvert&quot;</td></tr><tr><td>9.0</td><td>2</td><td>1.0</td><td>2.0</td><td>2</td><td>5.0</td><td>2.0</td><td>&quot;Introvert&quot;</td></tr><tr><td>0.0</td><td>0</td><td>6.0</td><td>7.0</td><td>0</td><td>14.0</td><td>8.0</td><td>&quot;Extrovert&quot;</td></tr><tr><td>3.0</td><td>0</td><td>9.0</td><td>4.0</td><td>0</td><td>8.0</td><td>5.0</td><td>&quot;Extrovert&quot;</td></tr></tbody></table></div>"
            ]
          },
          "metadata": {},
          "execution_count": 24
        }
      ]
    },
    {
      "cell_type": "code",
      "source": [
        "X = new_cleaned.drop('Personality')\n",
        "Y = new_cleaned['Personality']"
      ],
      "metadata": {
        "id": "3SY19Cus0ZUs"
      },
      "execution_count": null,
      "outputs": []
    },
    {
      "cell_type": "code",
      "source": [
        "X_train, X_test, Y_train, Y_test = train_test_split(X,Y, test_size=0.25, random_state=50)"
      ],
      "metadata": {
        "id": "5gABFROL0zA6"
      },
      "execution_count": null,
      "outputs": []
    },
    {
      "cell_type": "code",
      "source": [
        "dt = DecisionTreeClassifier()\n",
        "dt.fit(X,Y)"
      ],
      "metadata": {
        "id": "-Yo0ymuW07Dy",
        "colab": {
          "base_uri": "https://localhost:8080/",
          "height": 80
        },
        "outputId": "02299b0b-7db0-432a-cdc9-ff71d5bddd4b"
      },
      "execution_count": null,
      "outputs": [
        {
          "output_type": "execute_result",
          "data": {
            "text/plain": [
              "DecisionTreeClassifier()"
            ],
            "text/html": [
              "<style>#sk-container-id-2 {\n",
              "  /* Definition of color scheme common for light and dark mode */\n",
              "  --sklearn-color-text: #000;\n",
              "  --sklearn-color-text-muted: #666;\n",
              "  --sklearn-color-line: gray;\n",
              "  /* Definition of color scheme for unfitted estimators */\n",
              "  --sklearn-color-unfitted-level-0: #fff5e6;\n",
              "  --sklearn-color-unfitted-level-1: #f6e4d2;\n",
              "  --sklearn-color-unfitted-level-2: #ffe0b3;\n",
              "  --sklearn-color-unfitted-level-3: chocolate;\n",
              "  /* Definition of color scheme for fitted estimators */\n",
              "  --sklearn-color-fitted-level-0: #f0f8ff;\n",
              "  --sklearn-color-fitted-level-1: #d4ebff;\n",
              "  --sklearn-color-fitted-level-2: #b3dbfd;\n",
              "  --sklearn-color-fitted-level-3: cornflowerblue;\n",
              "\n",
              "  /* Specific color for light theme */\n",
              "  --sklearn-color-text-on-default-background: var(--sg-text-color, var(--theme-code-foreground, var(--jp-content-font-color1, black)));\n",
              "  --sklearn-color-background: var(--sg-background-color, var(--theme-background, var(--jp-layout-color0, white)));\n",
              "  --sklearn-color-border-box: var(--sg-text-color, var(--theme-code-foreground, var(--jp-content-font-color1, black)));\n",
              "  --sklearn-color-icon: #696969;\n",
              "\n",
              "  @media (prefers-color-scheme: dark) {\n",
              "    /* Redefinition of color scheme for dark theme */\n",
              "    --sklearn-color-text-on-default-background: var(--sg-text-color, var(--theme-code-foreground, var(--jp-content-font-color1, white)));\n",
              "    --sklearn-color-background: var(--sg-background-color, var(--theme-background, var(--jp-layout-color0, #111)));\n",
              "    --sklearn-color-border-box: var(--sg-text-color, var(--theme-code-foreground, var(--jp-content-font-color1, white)));\n",
              "    --sklearn-color-icon: #878787;\n",
              "  }\n",
              "}\n",
              "\n",
              "#sk-container-id-2 {\n",
              "  color: var(--sklearn-color-text);\n",
              "}\n",
              "\n",
              "#sk-container-id-2 pre {\n",
              "  padding: 0;\n",
              "}\n",
              "\n",
              "#sk-container-id-2 input.sk-hidden--visually {\n",
              "  border: 0;\n",
              "  clip: rect(1px 1px 1px 1px);\n",
              "  clip: rect(1px, 1px, 1px, 1px);\n",
              "  height: 1px;\n",
              "  margin: -1px;\n",
              "  overflow: hidden;\n",
              "  padding: 0;\n",
              "  position: absolute;\n",
              "  width: 1px;\n",
              "}\n",
              "\n",
              "#sk-container-id-2 div.sk-dashed-wrapped {\n",
              "  border: 1px dashed var(--sklearn-color-line);\n",
              "  margin: 0 0.4em 0.5em 0.4em;\n",
              "  box-sizing: border-box;\n",
              "  padding-bottom: 0.4em;\n",
              "  background-color: var(--sklearn-color-background);\n",
              "}\n",
              "\n",
              "#sk-container-id-2 div.sk-container {\n",
              "  /* jupyter's `normalize.less` sets `[hidden] { display: none; }`\n",
              "     but bootstrap.min.css set `[hidden] { display: none !important; }`\n",
              "     so we also need the `!important` here to be able to override the\n",
              "     default hidden behavior on the sphinx rendered scikit-learn.org.\n",
              "     See: https://github.com/scikit-learn/scikit-learn/issues/21755 */\n",
              "  display: inline-block !important;\n",
              "  position: relative;\n",
              "}\n",
              "\n",
              "#sk-container-id-2 div.sk-text-repr-fallback {\n",
              "  display: none;\n",
              "}\n",
              "\n",
              "div.sk-parallel-item,\n",
              "div.sk-serial,\n",
              "div.sk-item {\n",
              "  /* draw centered vertical line to link estimators */\n",
              "  background-image: linear-gradient(var(--sklearn-color-text-on-default-background), var(--sklearn-color-text-on-default-background));\n",
              "  background-size: 2px 100%;\n",
              "  background-repeat: no-repeat;\n",
              "  background-position: center center;\n",
              "}\n",
              "\n",
              "/* Parallel-specific style estimator block */\n",
              "\n",
              "#sk-container-id-2 div.sk-parallel-item::after {\n",
              "  content: \"\";\n",
              "  width: 100%;\n",
              "  border-bottom: 2px solid var(--sklearn-color-text-on-default-background);\n",
              "  flex-grow: 1;\n",
              "}\n",
              "\n",
              "#sk-container-id-2 div.sk-parallel {\n",
              "  display: flex;\n",
              "  align-items: stretch;\n",
              "  justify-content: center;\n",
              "  background-color: var(--sklearn-color-background);\n",
              "  position: relative;\n",
              "}\n",
              "\n",
              "#sk-container-id-2 div.sk-parallel-item {\n",
              "  display: flex;\n",
              "  flex-direction: column;\n",
              "}\n",
              "\n",
              "#sk-container-id-2 div.sk-parallel-item:first-child::after {\n",
              "  align-self: flex-end;\n",
              "  width: 50%;\n",
              "}\n",
              "\n",
              "#sk-container-id-2 div.sk-parallel-item:last-child::after {\n",
              "  align-self: flex-start;\n",
              "  width: 50%;\n",
              "}\n",
              "\n",
              "#sk-container-id-2 div.sk-parallel-item:only-child::after {\n",
              "  width: 0;\n",
              "}\n",
              "\n",
              "/* Serial-specific style estimator block */\n",
              "\n",
              "#sk-container-id-2 div.sk-serial {\n",
              "  display: flex;\n",
              "  flex-direction: column;\n",
              "  align-items: center;\n",
              "  background-color: var(--sklearn-color-background);\n",
              "  padding-right: 1em;\n",
              "  padding-left: 1em;\n",
              "}\n",
              "\n",
              "\n",
              "/* Toggleable style: style used for estimator/Pipeline/ColumnTransformer box that is\n",
              "clickable and can be expanded/collapsed.\n",
              "- Pipeline and ColumnTransformer use this feature and define the default style\n",
              "- Estimators will overwrite some part of the style using the `sk-estimator` class\n",
              "*/\n",
              "\n",
              "/* Pipeline and ColumnTransformer style (default) */\n",
              "\n",
              "#sk-container-id-2 div.sk-toggleable {\n",
              "  /* Default theme specific background. It is overwritten whether we have a\n",
              "  specific estimator or a Pipeline/ColumnTransformer */\n",
              "  background-color: var(--sklearn-color-background);\n",
              "}\n",
              "\n",
              "/* Toggleable label */\n",
              "#sk-container-id-2 label.sk-toggleable__label {\n",
              "  cursor: pointer;\n",
              "  display: flex;\n",
              "  width: 100%;\n",
              "  margin-bottom: 0;\n",
              "  padding: 0.5em;\n",
              "  box-sizing: border-box;\n",
              "  text-align: center;\n",
              "  align-items: start;\n",
              "  justify-content: space-between;\n",
              "  gap: 0.5em;\n",
              "}\n",
              "\n",
              "#sk-container-id-2 label.sk-toggleable__label .caption {\n",
              "  font-size: 0.6rem;\n",
              "  font-weight: lighter;\n",
              "  color: var(--sklearn-color-text-muted);\n",
              "}\n",
              "\n",
              "#sk-container-id-2 label.sk-toggleable__label-arrow:before {\n",
              "  /* Arrow on the left of the label */\n",
              "  content: \"▸\";\n",
              "  float: left;\n",
              "  margin-right: 0.25em;\n",
              "  color: var(--sklearn-color-icon);\n",
              "}\n",
              "\n",
              "#sk-container-id-2 label.sk-toggleable__label-arrow:hover:before {\n",
              "  color: var(--sklearn-color-text);\n",
              "}\n",
              "\n",
              "/* Toggleable content - dropdown */\n",
              "\n",
              "#sk-container-id-2 div.sk-toggleable__content {\n",
              "  max-height: 0;\n",
              "  max-width: 0;\n",
              "  overflow: hidden;\n",
              "  text-align: left;\n",
              "  /* unfitted */\n",
              "  background-color: var(--sklearn-color-unfitted-level-0);\n",
              "}\n",
              "\n",
              "#sk-container-id-2 div.sk-toggleable__content.fitted {\n",
              "  /* fitted */\n",
              "  background-color: var(--sklearn-color-fitted-level-0);\n",
              "}\n",
              "\n",
              "#sk-container-id-2 div.sk-toggleable__content pre {\n",
              "  margin: 0.2em;\n",
              "  border-radius: 0.25em;\n",
              "  color: var(--sklearn-color-text);\n",
              "  /* unfitted */\n",
              "  background-color: var(--sklearn-color-unfitted-level-0);\n",
              "}\n",
              "\n",
              "#sk-container-id-2 div.sk-toggleable__content.fitted pre {\n",
              "  /* unfitted */\n",
              "  background-color: var(--sklearn-color-fitted-level-0);\n",
              "}\n",
              "\n",
              "#sk-container-id-2 input.sk-toggleable__control:checked~div.sk-toggleable__content {\n",
              "  /* Expand drop-down */\n",
              "  max-height: 200px;\n",
              "  max-width: 100%;\n",
              "  overflow: auto;\n",
              "}\n",
              "\n",
              "#sk-container-id-2 input.sk-toggleable__control:checked~label.sk-toggleable__label-arrow:before {\n",
              "  content: \"▾\";\n",
              "}\n",
              "\n",
              "/* Pipeline/ColumnTransformer-specific style */\n",
              "\n",
              "#sk-container-id-2 div.sk-label input.sk-toggleable__control:checked~label.sk-toggleable__label {\n",
              "  color: var(--sklearn-color-text);\n",
              "  background-color: var(--sklearn-color-unfitted-level-2);\n",
              "}\n",
              "\n",
              "#sk-container-id-2 div.sk-label.fitted input.sk-toggleable__control:checked~label.sk-toggleable__label {\n",
              "  background-color: var(--sklearn-color-fitted-level-2);\n",
              "}\n",
              "\n",
              "/* Estimator-specific style */\n",
              "\n",
              "/* Colorize estimator box */\n",
              "#sk-container-id-2 div.sk-estimator input.sk-toggleable__control:checked~label.sk-toggleable__label {\n",
              "  /* unfitted */\n",
              "  background-color: var(--sklearn-color-unfitted-level-2);\n",
              "}\n",
              "\n",
              "#sk-container-id-2 div.sk-estimator.fitted input.sk-toggleable__control:checked~label.sk-toggleable__label {\n",
              "  /* fitted */\n",
              "  background-color: var(--sklearn-color-fitted-level-2);\n",
              "}\n",
              "\n",
              "#sk-container-id-2 div.sk-label label.sk-toggleable__label,\n",
              "#sk-container-id-2 div.sk-label label {\n",
              "  /* The background is the default theme color */\n",
              "  color: var(--sklearn-color-text-on-default-background);\n",
              "}\n",
              "\n",
              "/* On hover, darken the color of the background */\n",
              "#sk-container-id-2 div.sk-label:hover label.sk-toggleable__label {\n",
              "  color: var(--sklearn-color-text);\n",
              "  background-color: var(--sklearn-color-unfitted-level-2);\n",
              "}\n",
              "\n",
              "/* Label box, darken color on hover, fitted */\n",
              "#sk-container-id-2 div.sk-label.fitted:hover label.sk-toggleable__label.fitted {\n",
              "  color: var(--sklearn-color-text);\n",
              "  background-color: var(--sklearn-color-fitted-level-2);\n",
              "}\n",
              "\n",
              "/* Estimator label */\n",
              "\n",
              "#sk-container-id-2 div.sk-label label {\n",
              "  font-family: monospace;\n",
              "  font-weight: bold;\n",
              "  display: inline-block;\n",
              "  line-height: 1.2em;\n",
              "}\n",
              "\n",
              "#sk-container-id-2 div.sk-label-container {\n",
              "  text-align: center;\n",
              "}\n",
              "\n",
              "/* Estimator-specific */\n",
              "#sk-container-id-2 div.sk-estimator {\n",
              "  font-family: monospace;\n",
              "  border: 1px dotted var(--sklearn-color-border-box);\n",
              "  border-radius: 0.25em;\n",
              "  box-sizing: border-box;\n",
              "  margin-bottom: 0.5em;\n",
              "  /* unfitted */\n",
              "  background-color: var(--sklearn-color-unfitted-level-0);\n",
              "}\n",
              "\n",
              "#sk-container-id-2 div.sk-estimator.fitted {\n",
              "  /* fitted */\n",
              "  background-color: var(--sklearn-color-fitted-level-0);\n",
              "}\n",
              "\n",
              "/* on hover */\n",
              "#sk-container-id-2 div.sk-estimator:hover {\n",
              "  /* unfitted */\n",
              "  background-color: var(--sklearn-color-unfitted-level-2);\n",
              "}\n",
              "\n",
              "#sk-container-id-2 div.sk-estimator.fitted:hover {\n",
              "  /* fitted */\n",
              "  background-color: var(--sklearn-color-fitted-level-2);\n",
              "}\n",
              "\n",
              "/* Specification for estimator info (e.g. \"i\" and \"?\") */\n",
              "\n",
              "/* Common style for \"i\" and \"?\" */\n",
              "\n",
              ".sk-estimator-doc-link,\n",
              "a:link.sk-estimator-doc-link,\n",
              "a:visited.sk-estimator-doc-link {\n",
              "  float: right;\n",
              "  font-size: smaller;\n",
              "  line-height: 1em;\n",
              "  font-family: monospace;\n",
              "  background-color: var(--sklearn-color-background);\n",
              "  border-radius: 1em;\n",
              "  height: 1em;\n",
              "  width: 1em;\n",
              "  text-decoration: none !important;\n",
              "  margin-left: 0.5em;\n",
              "  text-align: center;\n",
              "  /* unfitted */\n",
              "  border: var(--sklearn-color-unfitted-level-1) 1pt solid;\n",
              "  color: var(--sklearn-color-unfitted-level-1);\n",
              "}\n",
              "\n",
              ".sk-estimator-doc-link.fitted,\n",
              "a:link.sk-estimator-doc-link.fitted,\n",
              "a:visited.sk-estimator-doc-link.fitted {\n",
              "  /* fitted */\n",
              "  border: var(--sklearn-color-fitted-level-1) 1pt solid;\n",
              "  color: var(--sklearn-color-fitted-level-1);\n",
              "}\n",
              "\n",
              "/* On hover */\n",
              "div.sk-estimator:hover .sk-estimator-doc-link:hover,\n",
              ".sk-estimator-doc-link:hover,\n",
              "div.sk-label-container:hover .sk-estimator-doc-link:hover,\n",
              ".sk-estimator-doc-link:hover {\n",
              "  /* unfitted */\n",
              "  background-color: var(--sklearn-color-unfitted-level-3);\n",
              "  color: var(--sklearn-color-background);\n",
              "  text-decoration: none;\n",
              "}\n",
              "\n",
              "div.sk-estimator.fitted:hover .sk-estimator-doc-link.fitted:hover,\n",
              ".sk-estimator-doc-link.fitted:hover,\n",
              "div.sk-label-container:hover .sk-estimator-doc-link.fitted:hover,\n",
              ".sk-estimator-doc-link.fitted:hover {\n",
              "  /* fitted */\n",
              "  background-color: var(--sklearn-color-fitted-level-3);\n",
              "  color: var(--sklearn-color-background);\n",
              "  text-decoration: none;\n",
              "}\n",
              "\n",
              "/* Span, style for the box shown on hovering the info icon */\n",
              ".sk-estimator-doc-link span {\n",
              "  display: none;\n",
              "  z-index: 9999;\n",
              "  position: relative;\n",
              "  font-weight: normal;\n",
              "  right: .2ex;\n",
              "  padding: .5ex;\n",
              "  margin: .5ex;\n",
              "  width: min-content;\n",
              "  min-width: 20ex;\n",
              "  max-width: 50ex;\n",
              "  color: var(--sklearn-color-text);\n",
              "  box-shadow: 2pt 2pt 4pt #999;\n",
              "  /* unfitted */\n",
              "  background: var(--sklearn-color-unfitted-level-0);\n",
              "  border: .5pt solid var(--sklearn-color-unfitted-level-3);\n",
              "}\n",
              "\n",
              ".sk-estimator-doc-link.fitted span {\n",
              "  /* fitted */\n",
              "  background: var(--sklearn-color-fitted-level-0);\n",
              "  border: var(--sklearn-color-fitted-level-3);\n",
              "}\n",
              "\n",
              ".sk-estimator-doc-link:hover span {\n",
              "  display: block;\n",
              "}\n",
              "\n",
              "/* \"?\"-specific style due to the `<a>` HTML tag */\n",
              "\n",
              "#sk-container-id-2 a.estimator_doc_link {\n",
              "  float: right;\n",
              "  font-size: 1rem;\n",
              "  line-height: 1em;\n",
              "  font-family: monospace;\n",
              "  background-color: var(--sklearn-color-background);\n",
              "  border-radius: 1rem;\n",
              "  height: 1rem;\n",
              "  width: 1rem;\n",
              "  text-decoration: none;\n",
              "  /* unfitted */\n",
              "  color: var(--sklearn-color-unfitted-level-1);\n",
              "  border: var(--sklearn-color-unfitted-level-1) 1pt solid;\n",
              "}\n",
              "\n",
              "#sk-container-id-2 a.estimator_doc_link.fitted {\n",
              "  /* fitted */\n",
              "  border: var(--sklearn-color-fitted-level-1) 1pt solid;\n",
              "  color: var(--sklearn-color-fitted-level-1);\n",
              "}\n",
              "\n",
              "/* On hover */\n",
              "#sk-container-id-2 a.estimator_doc_link:hover {\n",
              "  /* unfitted */\n",
              "  background-color: var(--sklearn-color-unfitted-level-3);\n",
              "  color: var(--sklearn-color-background);\n",
              "  text-decoration: none;\n",
              "}\n",
              "\n",
              "#sk-container-id-2 a.estimator_doc_link.fitted:hover {\n",
              "  /* fitted */\n",
              "  background-color: var(--sklearn-color-fitted-level-3);\n",
              "}\n",
              "</style><div id=\"sk-container-id-2\" class=\"sk-top-container\"><div class=\"sk-text-repr-fallback\"><pre>DecisionTreeClassifier()</pre><b>In a Jupyter environment, please rerun this cell to show the HTML representation or trust the notebook. <br />On GitHub, the HTML representation is unable to render, please try loading this page with nbviewer.org.</b></div><div class=\"sk-container\" hidden><div class=\"sk-item\"><div class=\"sk-estimator fitted sk-toggleable\"><input class=\"sk-toggleable__control sk-hidden--visually\" id=\"sk-estimator-id-2\" type=\"checkbox\" checked><label for=\"sk-estimator-id-2\" class=\"sk-toggleable__label fitted sk-toggleable__label-arrow\"><div><div>DecisionTreeClassifier</div></div><div><a class=\"sk-estimator-doc-link fitted\" rel=\"noreferrer\" target=\"_blank\" href=\"https://scikit-learn.org/1.6/modules/generated/sklearn.tree.DecisionTreeClassifier.html\">?<span>Documentation for DecisionTreeClassifier</span></a><span class=\"sk-estimator-doc-link fitted\">i<span>Fitted</span></span></div></label><div class=\"sk-toggleable__content fitted\"><pre>DecisionTreeClassifier()</pre></div> </div></div></div></div>"
            ]
          },
          "metadata": {},
          "execution_count": 27
        }
      ]
    },
    {
      "cell_type": "code",
      "source": [
        "Y_Pred = dt.predict(X_test)"
      ],
      "metadata": {
        "id": "ERhWqjmc1B9c"
      },
      "execution_count": null,
      "outputs": []
    },
    {
      "cell_type": "code",
      "source": [
        "print('Classification Report', classification_report(Y_test, Y_Pred))"
      ],
      "metadata": {
        "id": "PijQxbmL1PuW",
        "colab": {
          "base_uri": "https://localhost:8080/"
        },
        "outputId": "5e81c7dd-7834-4d6a-8ffd-dc9a26466497"
      },
      "execution_count": null,
      "outputs": [
        {
          "output_type": "stream",
          "name": "stdout",
          "text": [
            "Classification Report               precision    recall  f1-score   support\n",
            "\n",
            "   Extrovert       0.97      0.99      0.98       369\n",
            "   Introvert       0.99      0.96      0.97       356\n",
            "\n",
            "    accuracy                           0.98       725\n",
            "   macro avg       0.98      0.97      0.98       725\n",
            "weighted avg       0.98      0.98      0.98       725\n",
            "\n"
          ]
        }
      ]
    },
    {
      "cell_type": "code",
      "source": [
        "\n",
        "#pickle file\n",
        "model = open('PP2.pkl', 'wb')\n",
        "pickle.dump(dt, model)\n",
        "\n"
      ],
      "metadata": {
        "id": "SowaXz-m2gdz"
      },
      "execution_count": null,
      "outputs": []
    },
    {
      "cell_type": "code",
      "source": [],
      "metadata": {
        "id": "IZJ90K0CPgIU"
      },
      "execution_count": null,
      "outputs": []
    }
  ]
}